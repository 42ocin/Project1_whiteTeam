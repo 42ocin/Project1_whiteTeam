{
 "cells": [
  {
   "cell_type": "code",
   "execution_count": 41,
   "id": "d01bd50e-9373-4877-b397-c0e21acd75d0",
   "metadata": {},
   "outputs": [],
   "source": [
    "#imports\n",
    "import matplotlib.pyplot as plt\n",
    "import pandas as pd\n",
    "import scipy.stats as st"
   ]
  },
  {
   "cell_type": "code",
   "execution_count": 42,
   "id": "b3b6cf08-2d0d-4645-b0eb-04033691c4a7",
   "metadata": {},
   "outputs": [],
   "source": [
    "heartdiseaseCSVPath = \"data/heart_2020_cleaned.csv\"\n",
    "heartdiseaseDF = pd.read_csv(heartdiseaseCSVPath)"
   ]
  },
  {
   "cell_type": "code",
   "execution_count": 43,
   "id": "4b7e2cb2-ec7e-4376-85a5-7f8c61688d76",
   "metadata": {},
   "outputs": [
    {
     "data": {
      "text/html": [
       "<div>\n",
       "<style scoped>\n",
       "    .dataframe tbody tr th:only-of-type {\n",
       "        vertical-align: middle;\n",
       "    }\n",
       "\n",
       "    .dataframe tbody tr th {\n",
       "        vertical-align: top;\n",
       "    }\n",
       "\n",
       "    .dataframe thead th {\n",
       "        text-align: right;\n",
       "    }\n",
       "</style>\n",
       "<table border=\"1\" class=\"dataframe\">\n",
       "  <thead>\n",
       "    <tr style=\"text-align: right;\">\n",
       "      <th></th>\n",
       "      <th>HeartDisease</th>\n",
       "      <th>BMI</th>\n",
       "      <th>Smoking</th>\n",
       "      <th>AlcoholDrinking</th>\n",
       "      <th>Stroke</th>\n",
       "      <th>PhysicalHealth</th>\n",
       "      <th>MentalHealth</th>\n",
       "      <th>DiffWalking</th>\n",
       "      <th>Sex</th>\n",
       "      <th>AgeCategory</th>\n",
       "      <th>Race</th>\n",
       "      <th>Diabetic</th>\n",
       "      <th>PhysicalActivity</th>\n",
       "      <th>GenHealth</th>\n",
       "      <th>SleepTime</th>\n",
       "      <th>Asthma</th>\n",
       "      <th>KidneyDisease</th>\n",
       "      <th>SkinCancer</th>\n",
       "    </tr>\n",
       "  </thead>\n",
       "  <tbody>\n",
       "    <tr>\n",
       "      <th>0</th>\n",
       "      <td>No</td>\n",
       "      <td>16.60</td>\n",
       "      <td>Yes</td>\n",
       "      <td>No</td>\n",
       "      <td>No</td>\n",
       "      <td>3.0</td>\n",
       "      <td>30.0</td>\n",
       "      <td>No</td>\n",
       "      <td>Female</td>\n",
       "      <td>55-59</td>\n",
       "      <td>White</td>\n",
       "      <td>Yes</td>\n",
       "      <td>Yes</td>\n",
       "      <td>Very good</td>\n",
       "      <td>5.0</td>\n",
       "      <td>Yes</td>\n",
       "      <td>No</td>\n",
       "      <td>Yes</td>\n",
       "    </tr>\n",
       "    <tr>\n",
       "      <th>1</th>\n",
       "      <td>No</td>\n",
       "      <td>20.34</td>\n",
       "      <td>No</td>\n",
       "      <td>No</td>\n",
       "      <td>Yes</td>\n",
       "      <td>0.0</td>\n",
       "      <td>0.0</td>\n",
       "      <td>No</td>\n",
       "      <td>Female</td>\n",
       "      <td>80 or older</td>\n",
       "      <td>White</td>\n",
       "      <td>No</td>\n",
       "      <td>Yes</td>\n",
       "      <td>Very good</td>\n",
       "      <td>7.0</td>\n",
       "      <td>No</td>\n",
       "      <td>No</td>\n",
       "      <td>No</td>\n",
       "    </tr>\n",
       "    <tr>\n",
       "      <th>2</th>\n",
       "      <td>No</td>\n",
       "      <td>26.58</td>\n",
       "      <td>Yes</td>\n",
       "      <td>No</td>\n",
       "      <td>No</td>\n",
       "      <td>20.0</td>\n",
       "      <td>30.0</td>\n",
       "      <td>No</td>\n",
       "      <td>Male</td>\n",
       "      <td>65-69</td>\n",
       "      <td>White</td>\n",
       "      <td>Yes</td>\n",
       "      <td>Yes</td>\n",
       "      <td>Fair</td>\n",
       "      <td>8.0</td>\n",
       "      <td>Yes</td>\n",
       "      <td>No</td>\n",
       "      <td>No</td>\n",
       "    </tr>\n",
       "    <tr>\n",
       "      <th>3</th>\n",
       "      <td>No</td>\n",
       "      <td>24.21</td>\n",
       "      <td>No</td>\n",
       "      <td>No</td>\n",
       "      <td>No</td>\n",
       "      <td>0.0</td>\n",
       "      <td>0.0</td>\n",
       "      <td>No</td>\n",
       "      <td>Female</td>\n",
       "      <td>75-79</td>\n",
       "      <td>White</td>\n",
       "      <td>No</td>\n",
       "      <td>No</td>\n",
       "      <td>Good</td>\n",
       "      <td>6.0</td>\n",
       "      <td>No</td>\n",
       "      <td>No</td>\n",
       "      <td>Yes</td>\n",
       "    </tr>\n",
       "    <tr>\n",
       "      <th>4</th>\n",
       "      <td>No</td>\n",
       "      <td>23.71</td>\n",
       "      <td>No</td>\n",
       "      <td>No</td>\n",
       "      <td>No</td>\n",
       "      <td>28.0</td>\n",
       "      <td>0.0</td>\n",
       "      <td>Yes</td>\n",
       "      <td>Female</td>\n",
       "      <td>40-44</td>\n",
       "      <td>White</td>\n",
       "      <td>No</td>\n",
       "      <td>Yes</td>\n",
       "      <td>Very good</td>\n",
       "      <td>8.0</td>\n",
       "      <td>No</td>\n",
       "      <td>No</td>\n",
       "      <td>No</td>\n",
       "    </tr>\n",
       "  </tbody>\n",
       "</table>\n",
       "</div>"
      ],
      "text/plain": [
       "  HeartDisease    BMI Smoking AlcoholDrinking Stroke  PhysicalHealth  \\\n",
       "0           No  16.60     Yes              No     No             3.0   \n",
       "1           No  20.34      No              No    Yes             0.0   \n",
       "2           No  26.58     Yes              No     No            20.0   \n",
       "3           No  24.21      No              No     No             0.0   \n",
       "4           No  23.71      No              No     No            28.0   \n",
       "\n",
       "   MentalHealth DiffWalking     Sex  AgeCategory   Race Diabetic  \\\n",
       "0          30.0          No  Female        55-59  White      Yes   \n",
       "1           0.0          No  Female  80 or older  White       No   \n",
       "2          30.0          No    Male        65-69  White      Yes   \n",
       "3           0.0          No  Female        75-79  White       No   \n",
       "4           0.0         Yes  Female        40-44  White       No   \n",
       "\n",
       "  PhysicalActivity  GenHealth  SleepTime Asthma KidneyDisease SkinCancer  \n",
       "0              Yes  Very good        5.0    Yes            No        Yes  \n",
       "1              Yes  Very good        7.0     No            No         No  \n",
       "2              Yes       Fair        8.0    Yes            No         No  \n",
       "3               No       Good        6.0     No            No        Yes  \n",
       "4              Yes  Very good        8.0     No            No         No  "
      ]
     },
     "execution_count": 43,
     "metadata": {},
     "output_type": "execute_result"
    }
   ],
   "source": [
    "heartdiseaseDF.head()"
   ]
  },
  {
   "cell_type": "code",
   "execution_count": 44,
   "id": "7be4179a-752c-4861-96b2-fe0c8d16fe53",
   "metadata": {},
   "outputs": [
    {
     "data": {
      "text/plain": [
       "27373"
      ]
     },
     "execution_count": 44,
     "metadata": {},
     "output_type": "execute_result"
    }
   ],
   "source": [
    "hasheartdisease = heartdiseaseDF[\"HeartDisease\"].value_counts()[\"Yes\"]\n",
    "hasheartdisease"
   ]
  },
  {
   "cell_type": "code",
   "execution_count": 45,
   "id": "c4b5e902-281a-4a23-aa5c-db0547b61b69",
   "metadata": {},
   "outputs": [
    {
     "data": {
      "text/plain": [
       "131908"
      ]
     },
     "execution_count": 45,
     "metadata": {},
     "output_type": "execute_result"
    }
   ],
   "source": [
    "smoker = heartdiseaseDF[\"Smoking\"].value_counts()[\"Yes\"]\n",
    "smoker"
   ]
  },
  {
   "cell_type": "code",
   "execution_count": 46,
   "id": "9a96f6d0-c238-417d-9f8a-c963ce3f3cd1",
   "metadata": {},
   "outputs": [
    {
     "data": {
      "text/plain": [
       "HeartDisease  Smoking\n",
       "No            No         176551\n",
       "              Yes        115871\n",
       "Yes           Yes         16037\n",
       "              No          11336\n",
       "Name: count, dtype: int64"
      ]
     },
     "execution_count": 46,
     "metadata": {},
     "output_type": "execute_result"
    }
   ],
   "source": [
    "heartdiseaseandSmokes = heartdiseaseDF.groupby('HeartDisease')['Smoking'].value_counts()\n",
    "heartdiseaseandSmokes"
   ]
  },
  {
   "cell_type": "code",
   "execution_count": 47,
   "id": "2697e30d-7c01-4096-9ab5-eb19d272cf90",
   "metadata": {},
   "outputs": [
    {
     "data": {
      "text/plain": [
       "AgeCategory  HeartDisease\n",
       "18-24        No              20934\n",
       "             Yes               130\n",
       "25-29        No              16822\n",
       "             Yes               133\n",
       "30-34        No              18527\n",
       "             Yes               226\n",
       "35-39        No              20254\n",
       "             Yes               296\n",
       "40-44        No              20520\n",
       "             Yes               486\n",
       "45-49        No              21047\n",
       "             Yes               744\n",
       "50-54        No              23999\n",
       "             Yes              1383\n",
       "55-59        No              27555\n",
       "             Yes              2202\n",
       "60-64        No              30359\n",
       "             Yes              3327\n",
       "65-69        No              30050\n",
       "             Yes              4101\n",
       "70-74        No              26218\n",
       "             Yes              4847\n",
       "75-79        No              17433\n",
       "             Yes              4049\n",
       "80 or older  No              18704\n",
       "             Yes              5449\n",
       "Name: count, dtype: int64"
      ]
     },
     "execution_count": 47,
     "metadata": {},
     "output_type": "execute_result"
    }
   ],
   "source": [
    "ageCategories = heartdiseaseDF.groupby(\"AgeCategory\")[\"HeartDisease\"].value_counts()\n",
    "ageCategories"
   ]
  },
  {
   "cell_type": "code",
   "execution_count": 48,
   "id": "8d1d8283-d2e0-4e61-9805-04f96693c96d",
   "metadata": {},
   "outputs": [
    {
     "data": {
      "text/plain": [
       "Sex     HeartDisease\n",
       "Female  No              156571\n",
       "        Yes              11234\n",
       "Male    No              135851\n",
       "        Yes              16139\n",
       "Name: count, dtype: int64"
      ]
     },
     "execution_count": 48,
     "metadata": {},
     "output_type": "execute_result"
    }
   ],
   "source": [
    "sexCount = heartdiseaseDF.groupby(\"Sex\")[\"HeartDisease\"].value_counts()\n",
    "sexCount"
   ]
  },
  {
   "cell_type": "code",
   "execution_count": 49,
   "id": "7ca8e5c3-2f49-4e9f-a8e1-ec808f465d33",
   "metadata": {},
   "outputs": [
    {
     "data": {
      "text/plain": [
       "AlcoholDrinking  HeartDisease\n",
       "No               No              271786\n",
       "                 Yes              26232\n",
       "Yes              No               20636\n",
       "                 Yes               1141\n",
       "Name: count, dtype: int64"
      ]
     },
     "execution_count": 49,
     "metadata": {},
     "output_type": "execute_result"
    }
   ],
   "source": [
    "alcoholheartDisease = heartdiseaseDF.groupby(\"AlcoholDrinking\")[\"HeartDisease\"].value_counts()\n",
    "alcoholheartDisease"
   ]
  },
  {
   "cell_type": "code",
   "execution_count": 50,
   "id": "42124cf3-c287-41ab-a169-eb81214b29bc",
   "metadata": {},
   "outputs": [
    {
     "data": {
      "text/plain": [
       "GenHealth  HeartDisease\n",
       "Excellent  No               65342\n",
       "           Yes               1500\n",
       "Fair       No               27593\n",
       "           Yes               7084\n",
       "Good       No               83571\n",
       "           Yes               9558\n",
       "Poor       No                7439\n",
       "           Yes               3850\n",
       "Very good  No              108477\n",
       "           Yes               5381\n",
       "Name: count, dtype: int64"
      ]
     },
     "execution_count": 50,
     "metadata": {},
     "output_type": "execute_result"
    }
   ],
   "source": [
    "generalhealthheartDisease = heartdiseaseDF.groupby(\"GenHealth\")[\"HeartDisease\"].value_counts()\n",
    "generalhealthheartDisease"
   ]
  },
  {
   "cell_type": "code",
   "execution_count": 51,
   "id": "3b69455e-8b12-45a2-81cb-a5b3a67631da",
   "metadata": {},
   "outputs": [
    {
     "data": {
      "text/plain": [
       "Race                            HeartDisease\n",
       "American Indian/Alaskan Native  No                4660\n",
       "                                Yes                542\n",
       "Asian                           No                7802\n",
       "                                Yes                266\n",
       "Black                           No               21210\n",
       "                                Yes               1729\n",
       "Hispanic                        No               26003\n",
       "                                Yes               1443\n",
       "Other                           No               10042\n",
       "                                Yes                886\n",
       "White                           No              222705\n",
       "                                Yes              22507\n",
       "Name: count, dtype: int64"
      ]
     },
     "execution_count": 51,
     "metadata": {},
     "output_type": "execute_result"
    }
   ],
   "source": [
    "raceheartDisease = heartdiseaseDF.groupby(\"Race\")[\"HeartDisease\"].value_counts()\n",
    "raceheartDisease"
   ]
  },
  {
   "cell_type": "code",
   "execution_count": 52,
   "id": "0bd0d0a2-7cb7-4149-8aec-bd7492884c3b",
   "metadata": {},
   "outputs": [
    {
     "data": {
      "text/plain": [
       "HeartDisease\n",
       "No     28.224658\n",
       "Yes    29.401592\n",
       "Name: BMI, dtype: float64"
      ]
     },
     "execution_count": 52,
     "metadata": {},
     "output_type": "execute_result"
    }
   ],
   "source": [
    "bmiheartDisease = heartdiseaseDF.groupby(\"HeartDisease\")[\"BMI\"].mean()\n",
    "bmiheartDisease"
   ]
  },
  {
   "cell_type": "code",
   "execution_count": 53,
   "id": "39d40c36-0f04-48d1-8e98-bee00856f816",
   "metadata": {},
   "outputs": [
    {
     "data": {
      "text/plain": [
       "HeartDisease\n",
       "No     7.093416\n",
       "Yes    7.136156\n",
       "Name: SleepTime, dtype: float64"
      ]
     },
     "execution_count": 53,
     "metadata": {},
     "output_type": "execute_result"
    }
   ],
   "source": [
    "sleepheartDisease = heartdiseaseDF.groupby(\"HeartDisease\")[\"SleepTime\"].mean()\n",
    "sleepheartDisease"
   ]
  },
  {
   "cell_type": "code",
   "execution_count": null,
   "id": "579d387a-5daa-4099-9887-b06c6cbace2f",
   "metadata": {},
   "outputs": [],
   "source": []
  }
 ],
 "metadata": {
  "kernelspec": {
   "display_name": "Python 3 (ipykernel)",
   "language": "python",
   "name": "python3"
  },
  "language_info": {
   "codemirror_mode": {
    "name": "ipython",
    "version": 3
   },
   "file_extension": ".py",
   "mimetype": "text/x-python",
   "name": "python",
   "nbconvert_exporter": "python",
   "pygments_lexer": "ipython3",
   "version": "3.11.7"
  }
 },
 "nbformat": 4,
 "nbformat_minor": 5
}
